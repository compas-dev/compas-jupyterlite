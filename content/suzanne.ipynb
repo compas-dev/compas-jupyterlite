{
  "cells": [
    {
      "cell_type": "code",
      "execution_count": null,
      "metadata": {
        "trusted": true
      },
      "outputs": [],
      "source": [
        "%pip install -q scipy pythreejs\n",
        "%pip install -q compas --no-deps\n",
        "%pip install -q compas_notebook --no-deps"
      ]
    },
    {
      "cell_type": "code",
      "execution_count": null,
      "metadata": {
        "trusted": true
      },
      "outputs": [],
      "source": [
        "import pathlib\n",
        "import compas\n",
        "\n",
        "from compas.colors import Color\n",
        "from compas.datastructures import Mesh\n",
        "from compas_notebook import Viewer"
      ]
    },
    {
      "cell_type": "code",
      "execution_count": null,
      "metadata": {
        "trusted": true
      },
      "outputs": [],
      "source": [
        "FILE = pathlib.Path.cwd() / \"data\" / \"monkey.json\"\n",
        "monkey = compas.json_load(FILE)\n",
        "monkey = monkey.subdivided(k=2)"
      ]
    },
    {
      "cell_type": "code",
      "execution_count": null,
      "metadata": {
        "trusted": true
      },
      "outputs": [],
      "source": [
        "viewer = Viewer()\n",
        "viewer.scene.add(monkey, facecolor=Color.from_hex('#0092d2'))\n",
        "viewer.show()"
      ]
    }
  ],
  "metadata": {
    "kernelspec": {
      "display_name": "compas-dev",
      "language": "python",
      "name": "python3"
    },
    "language_info": {
      "codemirror_mode": {
        "name": "ipython",
        "version": 3
      },
      "file_extension": ".py",
      "mimetype": "text/x-python",
      "name": "python",
      "nbconvert_exporter": "python",
      "pygments_lexer": "ipython3",
      "version": "3.12.9"
    }
  },
  "nbformat": 4,
  "nbformat_minor": 4
}
