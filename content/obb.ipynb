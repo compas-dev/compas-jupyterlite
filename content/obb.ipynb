{
  "cells": [
    {
      "cell_type": "code",
      "execution_count": null,
      "metadata": {
        "trusted": true
      },
      "outputs": [],
      "source": [
        "%pip install -q scipy pythreejs\n",
        "%pip install -q compas --no-deps\n",
        "%pip install -q compas_notebook --no-deps"
      ]
    },
    {
      "cell_type": "code",
      "execution_count": null,
      "metadata": {
        "trusted": true
      },
      "outputs": [],
      "source": [
        "from math import radians"
      ]
    },
    {
      "cell_type": "code",
      "execution_count": null,
      "metadata": {
        "trusted": true
      },
      "outputs": [],
      "source": [
        "from compas.geometry import Pointcloud\n",
        "from compas.geometry import Translation, Rotation\n",
        "from compas.geometry import Box\n",
        "from compas.geometry import oriented_bounding_box\n",
        "from compas_notebook import Viewer"
      ]
    },
    {
      "cell_type": "code",
      "execution_count": null,
      "metadata": {
        "trusted": true
      },
      "outputs": [],
      "source": [
        "Rz = Rotation.from_axis_and_angle(axis=[0, 0, 1], angle=radians(30))\n",
        "Rx = Rotation.from_axis_and_angle(axis=[1, 0, 0], angle=radians(30))"
      ]
    },
    {
      "cell_type": "code",
      "execution_count": null,
      "metadata": {
        "trusted": true
      },
      "outputs": [],
      "source": [
        "T = Translation.from_vector([5, 3, 2])"
      ]
    },
    {
      "cell_type": "code",
      "execution_count": null,
      "metadata": {
        "trusted": true
      },
      "outputs": [],
      "source": [
        "cloud = Pointcloud.from_bounds(8, 5, 3, n=500)\n",
        "cloud.transform(T * Rz * Rx)"
      ]
    },
    {
      "cell_type": "code",
      "execution_count": null,
      "metadata": {
        "trusted": true
      },
      "outputs": [],
      "source": [
        "box = Box.from_bounding_box(oriented_bounding_box(cloud))"
      ]
    },
    {
      "cell_type": "code",
      "execution_count": null,
      "metadata": {
        "trusted": true
      },
      "outputs": [],
      "source": [
        "viewer = Viewer()\n",
        "viewer.scene.add(cloud, pointsize=0.3)\n",
        "viewer.scene.add(box.to_mesh(), show_faces=False, show_lines=True, linewidth=2)\n",
        "viewer.show()"
      ]
    }
  ],
  "metadata": {
    "kernelspec": {
      "display_name": "Python (Pyodide)",
      "language": "python",
      "name": "python"
    },
    "language_info": {
      "codemirror_mode": {
        "name": "python",
        "version": 3
      },
      "file_extension": ".py",
      "mimetype": "text/x-python",
      "name": "python",
      "nbconvert_exporter": "python",
      "pygments_lexer": "ipython3",
      "version": "3.8"
    }
  },
  "nbformat": 4,
  "nbformat_minor": 4
}
