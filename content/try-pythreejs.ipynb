{
  "metadata": {
    "kernelspec": {
      "name": "python",
      "display_name": "Python (Pyodide)",
      "language": "python"
    },
    "language_info": {
      "codemirror_mode": {
        "name": "python",
        "version": 3
      },
      "file_extension": ".py",
      "mimetype": "text/x-python",
      "name": "python",
      "nbconvert_exporter": "python",
      "pygments_lexer": "ipython3",
      "version": "3.8"
    }
  },
  "nbformat_minor": 4,
  "nbformat": 4,
  "cells": [
    {
      "cell_type": "code",
      "source": "%pip install pythreejs",
      "metadata": {
        "trusted": true
      },
      "outputs": [],
      "execution_count": 1
    },
    {
      "cell_type": "code",
      "source": "from pythreejs import *\nfrom IPython.display import display",
      "metadata": {
        "trusted": true
      },
      "outputs": [],
      "execution_count": 2
    },
    {
      "cell_type": "code",
      "source": "BoxGeometry(\n    width=5,\n    height=10,\n    depth=15,\n    widthSegments=5,\n    heightSegments=10,\n    depthSegments=15)",
      "metadata": {
        "trusted": true
      },
      "outputs": [
        {
          "execution_count": 3,
          "output_type": "execute_result",
          "data": {
            "text/plain": "BoxGeometry(depth=15.0, depthSegments=15, height=10.0, heightSegments=10, width=5.0, widthSegments=5)",
            "application/vnd.jupyter.widget-view+json": {
              "version_major": 2,
              "version_minor": 0,
              "model_id": "4f4d6b8be4c54a71aad2adfc918fb0d0"
            }
          },
          "metadata": {}
        }
      ],
      "execution_count": 3
    },
    {
      "cell_type": "code",
      "source": "ball = Mesh(\n    geometry=SphereGeometry(),\n    material=MeshLambertMaterial(color='red'))\nkey_light = DirectionalLight(color='white', position=[3, 5, 1], intensity=0.5)\nc = PerspectiveCamera(position=[0, 5, 5], up=[0, 1, 0], children=[key_light])\nscene = Scene(children=[ball, c, AmbientLight(color='#777777')])\nrenderer = Renderer(\n    camera=c,\n    scene=scene,\n    alpha=True,\n    clearOpacity=0,\n    controls=[OrbitControls(controlling=c)],\n    width=400,\n    height=400)\ndisplay(renderer)",
      "metadata": {
        "trusted": true
      },
      "outputs": [
        {
          "output_type": "display_data",
          "data": {
            "text/plain": "Renderer(camera=PerspectiveCamera(children=(DirectionalLight(color='white', intensity=0.5, position=(3.0, 5.0,…",
            "application/vnd.jupyter.widget-view+json": {
              "version_major": 2,
              "version_minor": 0,
              "model_id": "f6098b40f0384356b86ed6e2a49019f7"
            }
          },
          "metadata": {}
        }
      ],
      "execution_count": 4
    },
    {
      "cell_type": "code",
      "source": "",
      "metadata": {
        "trusted": true
      },
      "outputs": [],
      "execution_count": null
    }
  ]
}