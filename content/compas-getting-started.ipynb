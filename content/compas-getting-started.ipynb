{
  "cells": [
    {
      "cell_type": "markdown",
      "metadata": {},
      "source": [
        "# Getting Started with COMPAS"
      ]
    },
    {
      "cell_type": "markdown",
      "metadata": {},
      "source": [
        "Through [Jupyterlite](https://jupyterlite.readthedocs.io/en/stable/) and [Pyodide](https://pyodide.org/en/stable/) (a WebAssembly port of CPython), you can use the core COMPAS library and some of its extensions directly in the browser; no server running in the background, and no need to install anything on your computer."
      ]
    },
    {
      "cell_type": "markdown",
      "metadata": {},
      "source": [
        "## Installation"
      ]
    },
    {
      "cell_type": "markdown",
      "metadata": {},
      "source": [
        "The current build of Pyodide doesn't include COMPAS packages by default. We still have to install the packages we want to use with `pip`."
      ]
    },
    {
      "cell_type": "code",
      "execution_count": null,
      "metadata": {
        "trusted": true
      },
      "outputs": [],
      "source": [
        "%pip install -q pythreejs\n",
        "%pip install -q compas\n",
        "%pip install -q compas_notebook --no-deps"
      ]
    },
    {
      "cell_type": "markdown",
      "metadata": {},
      "source": [
        "Verify that the installation was succesful and that we have the correct version"
      ]
    },
    {
      "cell_type": "code",
      "execution_count": null,
      "metadata": {
        "trusted": true
      },
      "outputs": [],
      "source": [
        "import compas\n",
        "compas.__version__"
      ]
    },
    {
      "cell_type": "markdown",
      "metadata": {},
      "source": [
        "## Basic Example"
      ]
    },
    {
      "cell_type": "markdown",
      "metadata": {},
      "source": [
        "As a basic example, we create a mesh from a unit-sized box geometry, apply catmull-clark subdivision, and export the mesh to an OBJ file."
      ]
    },
    {
      "cell_type": "markdown",
      "metadata": {},
      "source": [
        "First import a box from the geometry package."
      ]
    },
    {
      "cell_type": "code",
      "execution_count": null,
      "metadata": {},
      "outputs": [],
      "source": []
    },
    {
      "cell_type": "code",
      "execution_count": null,
      "metadata": {
        "trusted": true
      },
      "outputs": [],
      "source": [
        "from compas.geometry import Box"
      ]
    },
    {
      "cell_type": "markdown",
      "metadata": {},
      "source": [
        "Then create and convert the box in a few simple steps."
      ]
    },
    {
      "cell_type": "code",
      "execution_count": null,
      "metadata": {
        "trusted": true
      },
      "outputs": [],
      "source": [
        "box = Box(xsize=1, ysize=1, zsize=1)\n",
        "mesh = box.to_mesh()\n",
        "ball = mesh.subdivided(k=3)"
      ]
    },
    {
      "cell_type": "markdown",
      "metadata": {},
      "source": [
        "Print some basic mesh information."
      ]
    },
    {
      "cell_type": "code",
      "execution_count": null,
      "metadata": {},
      "outputs": [],
      "source": [
        "print(ball)"
      ]
    },
    {
      "cell_type": "markdown",
      "metadata": {},
      "source": [
        "## Visualization"
      ]
    },
    {
      "cell_type": "markdown",
      "metadata": {},
      "source": [
        "With the Notebook viewer of `compas_notebook`, we can visualize the mesh in a mini interactive environment."
      ]
    },
    {
      "cell_type": "code",
      "execution_count": null,
      "metadata": {},
      "outputs": [],
      "source": [
        "from compas_notebook.viewer import Viewer\n",
        "from compas_notebook.config import Config\n",
        "\n",
        "config = Config()\n",
        "config.view.camera.position = [1, -2, 1]\n",
        "config.view.camera.target = [0, 0, 0]\n",
        "\n",
        "viewer = Viewer(config=config)\n",
        "viewer.scene.add(ball, color='#cccccc', show_vertices=False, show_edges=True)\n",
        "viewer.show()"
      ]
    }
  ],
  "metadata": {
    "kernelspec": {
      "display_name": "compas-dev",
      "language": "python",
      "name": "python3"
    },
    "language_info": {
      "codemirror_mode": {
        "name": "ipython",
        "version": 3
      },
      "file_extension": ".py",
      "mimetype": "text/x-python",
      "name": "python",
      "nbconvert_exporter": "python",
      "pygments_lexer": "ipython3",
      "version": "3.12.9"
    }
  },
  "nbformat": 4,
  "nbformat_minor": 4
}
