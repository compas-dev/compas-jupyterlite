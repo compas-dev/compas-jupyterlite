{
  "cells": [
    {
      "cell_type": "code",
      "execution_count": null,
      "metadata": {
        "trusted": true
      },
      "outputs": [],
      "source": [
        "%pip install -q pythreejs\n",
        "%pip install -q compas\n",
        "%pip install -q compas_notebook --no-deps"
      ]
    },
    {
      "cell_type": "code",
      "execution_count": null,
      "metadata": {
        "trusted": true
      },
      "outputs": [],
      "source": [
        "from math import radians"
      ]
    },
    {
      "cell_type": "code",
      "execution_count": null,
      "metadata": {
        "trusted": true
      },
      "outputs": [],
      "source": [
        "from compas.colors import Color\n",
        "from compas.geometry import Pointcloud\n",
        "from compas.geometry import Box\n",
        "from compas.geometry import Frame\n",
        "from compas.geometry import Sphere\n",
        "from compas_notebook import Viewer"
      ]
    },
    {
      "cell_type": "code",
      "execution_count": null,
      "metadata": {
        "trusted": true
      },
      "outputs": [],
      "source": [
        "cloud = Pointcloud.from_bounds(10, 10, 10, 10000)"
      ]
    },
    {
      "cell_type": "code",
      "execution_count": null,
      "metadata": {
        "trusted": true
      },
      "outputs": [],
      "source": [
        "box = Box(3, 2, 1)\n",
        "box.rotate(radians(30))\n",
        "box.translate(cloud.centroid)"
      ]
    },
    {
      "cell_type": "code",
      "execution_count": null,
      "metadata": {
        "trusted": true
      },
      "outputs": [],
      "source": [
        "results = box.contains_points(cloud)\n",
        "\n",
        "inside = [point for point, result in zip(cloud, results) if result]\n",
        "outside = [point for point, result in zip(cloud, results) if not result]"
      ]
    },
    {
      "cell_type": "code",
      "execution_count": null,
      "metadata": {
        "trusted": true
      },
      "outputs": [],
      "source": [
        "viewer = Viewer()\n",
        "viewer.scene.add(box.to_mesh(), show_faces=False, show_lines=True, linewidth=5)\n",
        "viewer.scene.add(Pointcloud(inside), color=Color.red(), pointsize=0.2)\n",
        "viewer.scene.add(Pointcloud(outside), color=Color.blue(), pointsize=0.1)\n",
        "viewer.show()"
      ]
    }
  ],
  "metadata": {
    "kernelspec": {
      "display_name": "Python (Pyodide)",
      "language": "python",
      "name": "python"
    },
    "language_info": {
      "codemirror_mode": {
        "name": "python",
        "version": 3
      },
      "file_extension": ".py",
      "mimetype": "text/x-python",
      "name": "python",
      "nbconvert_exporter": "python",
      "pygments_lexer": "ipython3",
      "version": "3.8"
    }
  },
  "nbformat": 4,
  "nbformat_minor": 4
}
