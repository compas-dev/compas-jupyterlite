{
  "cells": [
    {
      "cell_type": "code",
      "execution_count": 1,
      "metadata": {
        "trusted": true
      },
      "outputs": [],
      "source": [
        "%pip install scipy pythreejs\n",
        "%pip install compas --no-deps\n",
        "%pip install compas_notebook --no-deps"
      ]
    },
    {
      "cell_type": "code",
      "execution_count": 2,
      "metadata": {
        "trusted": true
      },
      "outputs": [],
      "source": [
        "from math import radians"
      ]
    },
    {
      "cell_type": "code",
      "execution_count": 3,
      "metadata": {
        "trusted": true
      },
      "outputs": [],
      "source": [
        "from compas.colors import Color\n",
        "from compas.geometry import Pointcloud\n",
        "from compas.geometry import Box\n",
        "from compas.geometry import Frame\n",
        "from compas.geometry import Sphere\n",
        "from compas_notebook import Viewer"
      ]
    },
    {
      "cell_type": "code",
      "execution_count": 4,
      "metadata": {
        "trusted": true
      },
      "outputs": [],
      "source": [
        "cloud = Pointcloud.from_bounds(10, 10, 10, 10000)"
      ]
    },
    {
      "cell_type": "code",
      "execution_count": 5,
      "metadata": {
        "trusted": true
      },
      "outputs": [],
      "source": [
        "box = Box(3, 2, 1)\n",
        "box.rotate(radians(30))\n",
        "box.translate(cloud.centroid)"
      ]
    },
    {
      "cell_type": "code",
      "execution_count": 6,
      "metadata": {
        "trusted": true
      },
      "outputs": [],
      "source": [
        "results = box.contains_points(cloud)\n",
        "\n",
        "inside = [point for point, result in zip(cloud, results) if result]\n",
        "outside = [point for point, result in zip(cloud, results) if not result]"
      ]
    },
    {
      "cell_type": "code",
      "execution_count": 7,
      "metadata": {
        "trusted": true
      },
      "outputs": [
        {
          "data": {
            "application/vnd.jupyter.widget-view+json": {
              "model_id": "a782d104dafa4283b5d4683af92dfade",
              "version_major": 2,
              "version_minor": 0
            },
            "text/plain": [
              "VBox(children=(HBox(children=(Button(icon='search-plus', layout=Layout(height='32px', width='48px'), style=But…"
            ]
          },
          "metadata": {},
          "output_type": "display_data"
        }
      ],
      "source": [
        "viewer = Viewer()\n",
        "viewer.scene.add(box.to_mesh(), show_faces=False, show_lines=True, linewidth=5)\n",
        "viewer.scene.add(Pointcloud(inside), color=Color.red(), pointsize=0.2)\n",
        "viewer.scene.add(Pointcloud(outside), color=Color.blue(), pointsize=0.1)\n",
        "viewer.show()"
      ]
    }
  ],
  "metadata": {
    "kernelspec": {
      "display_name": "Python (Pyodide)",
      "language": "python",
      "name": "python"
    },
    "language_info": {
      "codemirror_mode": {
        "name": "python",
        "version": 3
      },
      "file_extension": ".py",
      "mimetype": "text/x-python",
      "name": "python",
      "nbconvert_exporter": "python",
      "pygments_lexer": "ipython3",
      "version": "3.8"
    }
  },
  "nbformat": 4,
  "nbformat_minor": 4
}
